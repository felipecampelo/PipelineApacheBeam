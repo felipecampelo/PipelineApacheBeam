{
  "nbformat": 4,
  "nbformat_minor": 0,
  "metadata": {
    "colab": {
      "name": "ApacheBeam.ipynb",
      "provenance": [],
      "mount_file_id": "1QWBQWcI7pr6HP7kxNSk-JTWmXPRwYbdp",
      "authorship_tag": "ABX9TyNY/m3lflFJnHDlTY2zC83y",
      "include_colab_link": true
    },
    "kernelspec": {
      "name": "python3",
      "display_name": "Python 3"
    },
    "language_info": {
      "name": "python"
    }
  },
  "cells": [
    {
      "cell_type": "markdown",
      "metadata": {
        "id": "view-in-github",
        "colab_type": "text"
      },
      "source": [
        "<a href=\"https://colab.research.google.com/github/felipecampelo/PipelineApacheBeam/blob/main/ApacheBeam.ipynb\" target=\"_parent\"><img src=\"https://colab.research.google.com/assets/colab-badge.svg\" alt=\"Open In Colab\"/></a>"
      ]
    },
    {
      "cell_type": "markdown",
      "source": [
        "### ❗ Apache Beam ❗\n",
        "\n",
        "`Passo a passo para instalação do Apache Beam no Colab:`\n",
        "\n",
        "`1)` pip install --upgrade pip\n",
        "\n",
        "`2)` pip install apache-beam[interactive]\n",
        "\n",
        "`3)` Reiniciar ambiente de execução\n",
        "\n",
        "`4)` pip install apache-beam[gcp]\n",
        "\n",
        "`5)` Reiniciar ambiente de execução\n",
        "\n",
        "`6)` import apache_beam as beam\n",
        "\n",
        "`OBS: Nunca usar funções de exibição e gravação na mesma pipeline`"
      ],
      "metadata": {
        "id": "zl61Jc5p2Ye4"
      }
    },
    {
      "cell_type": "code",
      "execution_count": null,
      "metadata": {
        "id": "z3VGZyuQupOi"
      },
      "outputs": [],
      "source": [
        "# Necessário atualizar o pip para instalação do Beam\n",
        "pip install --upgrade pip"
      ]
    },
    {
      "cell_type": "code",
      "source": [
        "# Instalando o apache-beam[interactive]\n",
        "pip install apache-beam[interactive]"
      ],
      "metadata": {
        "id": "TLgNr3JE022K"
      },
      "execution_count": null,
      "outputs": []
    },
    {
      "cell_type": "code",
      "source": [
        "# Instalando o apache-beam[gcp]\n",
        "pip install apache-beam[gcp]"
      ],
      "metadata": {
        "id": "1QE7LYPn1vn4"
      },
      "execution_count": null,
      "outputs": []
    },
    {
      "cell_type": "code",
      "source": [
        "import apache_beam as beam"
      ],
      "metadata": {
        "id": "NKug0g1_2t17"
      },
      "execution_count": 2,
      "outputs": []
    },
    {
      "cell_type": "markdown",
      "source": [
        "###⚡ Ler e Exibir a Leitura ⚡"
      ],
      "metadata": {
        "id": "2oSYlcdT53H5"
      }
    },
    {
      "cell_type": "code",
      "source": [
        "# Criando uma variável com Pipeline\n",
        "p1 = beam.Pipeline()\n",
        "\n",
        "voos = (\n",
        "    p1\n",
        "    |'Extrair do CSV' >> beam.io.ReadFromText('/content/drive/MyDrive/Datasets/voos.csv', skip_header_lines = 0)\n",
        "    |'Separador do CSV' >> beam.Map(lambda record: record.split(','))\n",
        "    |'Exibir o resultado' >> beam.Map(print)\n",
        ")\n",
        "\n",
        "# Executando a Pipeline\n",
        "p1.run()"
      ],
      "metadata": {
        "id": "LhNmgU7pDCa3"
      },
      "execution_count": null,
      "outputs": []
    },
    {
      "cell_type": "markdown",
      "source": [
        "###⚡ Ler e Salvar a Leitura ⚡"
      ],
      "metadata": {
        "id": "DmPLS_L8DBSR"
      }
    },
    {
      "cell_type": "code",
      "source": [
        "# Criando uma variável com Pipeline\n",
        "p1 = beam.Pipeline()\n",
        "\n",
        "voos = (\n",
        "    p1\n",
        "    |'Extrair do CSV' >> beam.io.ReadFromText('/content/drive/MyDrive/Datasets/voos.csv', skip_header_lines = 0)\n",
        "    |'Separador do CSV' >> beam.Map(lambda record: record.split(','))\n",
        "    |'Gravar o resultado' >> beam.io.WriteToText('saida.txt')\n",
        ")\n",
        "\n",
        "# Executando a Pipeline\n",
        "p1.run()"
      ],
      "metadata": {
        "id": "JzXSrI7s53es"
      },
      "execution_count": null,
      "outputs": []
    },
    {
      "cell_type": "markdown",
      "source": [
        "###⚡ Filtros ⚡"
      ],
      "metadata": {
        "id": "BSZ4IOqeDOZq"
      }
    },
    {
      "cell_type": "code",
      "source": [
        "# Criando uma variável com Pipeline\n",
        "p1 = beam.Pipeline()\n",
        "\n",
        "voos = (\n",
        "    p1\n",
        "    |'Extrair do CSV' >> beam.io.ReadFromText('/content/drive/MyDrive/Datasets/voos.csv', skip_header_lines = 1)\n",
        "    |'Separador do CSV' >> beam.Map(lambda record: record.split(','))\n",
        "    |'Filtrar aero' >> beam.Filter(lambda record: record[4] == 'SFO')\n",
        "    |'Filtrar atrasos' >> beam.Filter(lambda record: float(record[8]) > 0)\n",
        "    |'Exibir o resultado' >> beam.Map(print)\n",
        ")\n",
        "\n",
        "# Executando a Pipeline\n",
        "p1.run()"
      ],
      "metadata": {
        "id": "i6XMuAWjDPAx"
      },
      "execution_count": null,
      "outputs": []
    },
    {
      "cell_type": "markdown",
      "source": [
        "###⚡ Agrupamentos ⚡"
      ],
      "metadata": {
        "id": "iN0h8dxtQTW8"
      }
    },
    {
      "cell_type": "code",
      "source": [
        "# Criando uma variável com Pipeline\n",
        "p1 = beam.Pipeline()\n",
        "\n",
        "voos = (\n",
        "    p1\n",
        "    |'Extrair do CSV' >> beam.io.ReadFromText('/content/drive/MyDrive/Datasets/voos.csv', skip_header_lines = 1)\n",
        "    |'Separador do CSV' >> beam.Map(lambda record: record.split(','))\n",
        "    |'Filtrar atrasos' >> beam.Filter(lambda record: float(record[8]) > 0) # Pegando apenas registros com atraso\n",
        "    |'Agregar as colunas' >> beam.Map(lambda record: (record[4], float(record[8]))) # Pegando apenas as colunas 4 e 8\n",
        "    |'Construir uma nova tabela por minuto' >> beam.CombinePerKey(sum) # Agrupando por chave e fazendo a soma\n",
        "    |'Exibir o resultado' >> beam.Map(print)\n",
        ")\n",
        "\n",
        "# Executando a Pipeline\n",
        "p1.run()"
      ],
      "metadata": {
        "id": "1YFcMZWuYysW"
      },
      "execution_count": null,
      "outputs": []
    },
    {
      "cell_type": "code",
      "source": [
        "# Criando uma variável com Pipeline\n",
        "p1 = beam.Pipeline()\n",
        "\n",
        "voos = (\n",
        "    p1\n",
        "    |'Extrair do CSV' >> beam.io.ReadFromText('/content/drive/MyDrive/Datasets/voos.csv', skip_header_lines = 1)\n",
        "    |'Separador do CSV' >> beam.Map(lambda record: record.split(','))\n",
        "    |'Filtrar atrasos' >> beam.Filter(lambda record: float(record[8]) > 0) # Pegando apenas registros com atraso\n",
        "    |'Agregar as colunas' >> beam.Map(lambda record: (record[4], float(record[8]))) # Pegando apenas as colunas 4 e 8\n",
        "    |'Construir uma nova tabela por contagem' >> beam.combiners.Count.PerKey() # Fazendo uma contagem de ocorrências\n",
        "    |'Exibir o resultado' >> beam.Map(print)\n",
        ")\n",
        "\n",
        "# Executando a Pipeline\n",
        "p1.run()"
      ],
      "metadata": {
        "id": "hqEjgc3QQUnB"
      },
      "execution_count": null,
      "outputs": []
    },
    {
      "cell_type": "markdown",
      "source": [
        "###⚡ Co Group By Key ⚡"
      ],
      "metadata": {
        "id": "vDWUc1HrZ5YM"
      }
    },
    {
      "cell_type": "code",
      "source": [
        "# Criar nova tabela com dados agregados de duas Pipelines\n",
        "p1 = beam.Pipeline()\n",
        "\n",
        "tempoAtraso = (\n",
        "    p1\n",
        "    |'Extrair do CSV' >> beam.io.ReadFromText('/content/drive/MyDrive/Datasets/voos.csv', skip_header_lines = 1)\n",
        "    |'Separador do CSV' >> beam.Map(lambda record: record.split(','))\n",
        "    |'Filtrar atrasos' >> beam.Filter(lambda record: float(record[8]) > 0) # Pegando apenas registros com atraso\n",
        "    |'Agregar as colunas' >> beam.Map(lambda record: (record[4], float(record[8]))) # Pegando apenas as colunas 4 e 8\n",
        "    |'Construir uma nova tabela por minuto' >> beam.CombinePerKey(sum) # Agrupando por chave e fazendo a soma\n",
        "#   |'Exibir o resultado' >> beam.Map(print)\n",
        ")\n",
        "\n",
        "qtdAtraso = (\n",
        "    p1\n",
        "    |'1Extrair do CSV' >> beam.io.ReadFromText('/content/drive/MyDrive/Datasets/voos.csv', skip_header_lines = 1)\n",
        "    |'1Separador do CSV' >> beam.Map(lambda record: record.split(','))\n",
        "    |'1Filtrar atrasos' >> beam.Filter(lambda record: float(record[8]) > 0) # Pegando apenas registros com atraso\n",
        "    |'1Agregar as colunas' >> beam.Map(lambda record: (record[4], float(record[8]))) # Pegando apenas as colunas 4 e 8\n",
        "    |'1Construir uma nova tabela por contagem' >> beam.combiners.Count.PerKey() # Fazendo uma contagem de ocorrências\n",
        "#   |'1Exibir o resultado' >> beam.Map(print)\n",
        ")\n",
        "\n",
        "# A última pipeline não precisa do p1 (pernas) já que estamos juntando elas\n",
        "tabela = (\n",
        "    {'Quantidade_minutos': tempoAtraso, 'Numero_de_atrasos': qtdAtraso}\n",
        "    |'Agrupar as pernas' >> beam.CoGroupByKey()\n",
        "    |'Resultado' >> beam.Map(print)\n",
        ")\n",
        "\n",
        "# Executando as Pipelines\n",
        "p1.run()"
      ],
      "metadata": {
        "id": "TE4yfUlFZ9R3"
      },
      "execution_count": null,
      "outputs": []
    }
  ]
}